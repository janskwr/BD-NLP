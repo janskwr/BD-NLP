{
 "cells": [
  {
   "cell_type": "markdown",
   "metadata": {
    "id": "xR6vAxPNSNGT"
   },
   "source": [
    "# Praca domowa 1 - warsztaty badawcze"
   ]
  },
  {
   "cell_type": "markdown",
   "metadata": {
    "id": "0M1ZzjLuSgMN"
   },
   "source": [
    "## Autorzy: Jakub Kozieł, Jan Skwarek, Tomasz Nocoń"
   ]
  },
  {
   "cell_type": "markdown",
   "metadata": {
    "id": "8aTNPEAvpGiB"
   },
   "source": [
    "# Wstęp"
   ]
  },
  {
   "cell_type": "code",
   "execution_count": null,
   "metadata": {
    "id": "cow3Ab7DobPB"
   },
   "outputs": [],
   "source": [
    "! pip install swifter\n",
    "! pip install pandas\n",
    "! pip install textacy\n",
    "! pip install spacy"
   ]
  },
  {
   "cell_type": "code",
   "execution_count": null,
   "metadata": {
    "id": "gG9v2xSapDvI"
   },
   "outputs": [],
   "source": [
    "! python -m spacy download en_core_web_sm"
   ]
  },
  {
   "cell_type": "code",
   "execution_count": null,
   "metadata": {
    "id": "NN0nCU78pMG0"
   },
   "outputs": [],
   "source": [
    "import spacy\n",
    "import pandas as pd\n",
    "from tqdm.auto import tqdm \n",
    "import swifter\n",
    "import plotly.express as px\n",
    "from wordcloud import WordCloud\n",
    "from matplotlib import pyplot as plt\n",
    "import textacy\n",
    "from collections import Counter\n",
    "import random\n",
    "\n",
    "pd.options.plotting.backend = \"plotly\"\n",
    "random.seed(123)"
   ]
  },
  {
   "cell_type": "markdown",
   "metadata": {
    "id": "mkbS3LhWp4m4"
   },
   "source": [
    "# Preprocessing"
   ]
  },
  {
   "cell_type": "markdown",
   "metadata": {
    "id": "matCOH2NqDtH"
   },
   "source": [
    "As previously we work on data from https://dataverse.harvard.edu/dataset.xhtml?persistentId=doi:10.7910/DVN/6MZN76"
   ]
  },
  {
   "cell_type": "code",
   "execution_count": null,
   "metadata": {
    "id": "HBM2IgmjqZq3"
   },
   "outputs": [],
   "source": [
    "!wget -O data.tar.gz https://dataverse.harvard.edu/api/access/datafile/:persistentId?persistentId=doi:10.7910/DVN/6MZN76/CRUNF0"
   ]
  },
  {
   "cell_type": "code",
   "execution_count": null,
   "metadata": {
    "id": "c2Un2gJHqaPw"
   },
   "outputs": [],
   "source": [
    "!tar -xf data.tar.gz"
   ]
  },
  {
   "cell_type": "code",
   "execution_count": null,
   "metadata": {
    "id": "y1E9UF3bqc4b"
   },
   "outputs": [],
   "source": [
    "en = spacy.load(\"en_core_web_sm\") #so far we keep on execution time\n"
   ]
  },
  {
   "cell_type": "code",
   "execution_count": null,
   "metadata": {
    "id": "5yj3_AJuucQz"
   },
   "outputs": [],
   "source": [
    "df = pd.read_table('Dail_debates_1919-2013.tab')"
   ]
  },
  {
   "cell_type": "code",
   "execution_count": null,
   "metadata": {
    "id": "Q4sfXsyZqlbX"
   },
   "outputs": [],
   "source": [
    "df.date = pd.to_datetime(df.date)"
   ]
  },
  {
   "cell_type": "markdown",
   "metadata": {
    "id": "PR6MYKO_R1se"
   },
   "source": [
    "Filtrujemy ramkę danych tak, żeby pokazywała lata 2007-2010. Wtedy na świecie trwał kryzys ekonomiczny. Być może znajdziemy jakieś ciekawe dane pod tym kątem."
   ]
  },
  {
   "cell_type": "code",
   "execution_count": null,
   "metadata": {
    "id": "8Eb2L49Dq2Yt"
   },
   "outputs": [],
   "source": [
    "#we are going to use subsample from 2007 to 2010, being interested in the years before and after economical crisis\n",
    "df = df[(df.date.dt.year>=2007)&(df.date.dt.year<=2010)]"
   ]
  },
  {
   "cell_type": "code",
   "execution_count": null,
   "metadata": {
    "id": "UHf04RUjrczA"
   },
   "outputs": [],
   "source": [
    "df.info()"
   ]
  },
  {
   "cell_type": "markdown",
   "metadata": {
    "id": "O1nfT6h_rfmr"
   },
   "source": [
    "431 tys. wierszy to jednak nadal zbyt dużo. Wybierzemy z tego podzbiór, zachowując podobną ilość obserwacji z każdego roku"
   ]
  },
  {
   "cell_type": "code",
   "execution_count": null,
   "metadata": {
    "id": "ZO0PZsz6sVtA"
   },
   "outputs": [],
   "source": [
    "df[\"year\"] = df.date.dt.year\n",
    "\n",
    "df = df.groupby('year', group_keys=False).apply(lambda x: x.sample(3500, random_state=123))\n",
    "\n",
    "df.drop(\"year\", axis = 1)"
   ]
  },
  {
   "cell_type": "code",
   "execution_count": null,
   "metadata": {
    "id": "aAKx0UwZtazm"
   },
   "outputs": [],
   "source": [
    "df.columns"
   ]
  },
  {
   "cell_type": "code",
   "execution_count": null,
   "metadata": {
    "id": "g3ZjkQUKtbn1"
   },
   "outputs": [],
   "source": [
    "df[\"speech_en\"] = df['speech'].swifter.apply(en)"
   ]
  },
  {
   "cell_type": "markdown",
   "metadata": {
    "id": "sOQG9UrfxUSS"
   },
   "source": [
    "Czas na powyższą operację <7min"
   ]
  },
  {
   "cell_type": "markdown",
   "metadata": {
    "id": "hC6iU47LwNBR"
   },
   "source": [
    "# Zależności"
   ]
  },
  {
   "cell_type": "code",
   "execution_count": null,
   "metadata": {
    "id": "A-GqhiN8wasL"
   },
   "outputs": [],
   "source": [
    "df.party_name.unique()"
   ]
  },
  {
   "cell_type": "code",
   "execution_count": null,
   "metadata": {
    "id": "GDRs5n1KLI2_"
   },
   "outputs": [],
   "source": [
    "df.nunique()"
   ]
  },
  {
   "cell_type": "markdown",
   "metadata": {
    "id": "s8DN_sibwbCx"
   },
   "source": [
    "W analizowanych przez nas latach kolicję tworzyły partie FF-Green-PD"
   ]
  },
  {
   "cell_type": "markdown",
   "metadata": {
    "id": "XnDJJECswbMW"
   },
   "source": [
    "Naszym pomysłem na ten zbiór było zbadanie czy kryzys światowy z roku 2008 miał wpył na temtyke wypowiedzi w rządzie. W tym celu wzieliśmy okres 2007-2010, żeby zobaczyć czy faktycznie kryzys mial w latach 2008-2009 mial wpływ na to co było mówione"
   ]
  },
  {
   "cell_type": "markdown",
   "metadata": {
    "id": "u-cXIe8AwbWR"
   },
   "source": [
    "Skupiliśmy sie na charakterze wypowiedzi wewnątrz partii."
   ]
  },
  {
   "cell_type": "code",
   "execution_count": null,
   "metadata": {
    "id": "rVzpSBo5GFEd"
   },
   "outputs": [],
   "source": [
    "df.party_name.unique()"
   ]
  },
  {
   "cell_type": "code",
   "execution_count": null,
   "metadata": {
    "id": "jGdAI6J0GFIx"
   },
   "outputs": [],
   "source": [
    "year = 2009\n",
    "df_year = df[df.date.dt.year == year]\n",
    "parties = df_year['party_name'].unique()\n",
    "for party in parties:\n",
    "    temp = df_year[df_year['party_name'] == party]\n",
    "    lemmas = temp.speech_en.apply(lambda doc: [token.lemma_ for token in doc if not token.is_stop if not token.is_punct])\n",
    "    word_counts = dict(Counter(lemmas.sum()).most_common(30))\n",
    "    wc = WordCloud(width=800, height=400)\n",
    "    wc.generate_from_frequencies(frequencies=word_counts)\n",
    "    plt.figure(figsize=(10,8))\n",
    "    plt.title(party+str(year))\n",
    "    plt.imshow(wc)"
   ]
  },
  {
   "cell_type": "markdown",
   "metadata": {
    "id": "42pgIL13GFME"
   },
   "source": [
    "To co tutaj zrobiliśmy to podzieliliśmy wypowiedzi na osoby z partii. Dodotkowo manipulowalismy sobie latami po to, żeby zobaczyć czy faktycznie okres kryzysu spowoduje jakieś zmiany w kluczowych temtatch. Z przeprowadzonych eksperymentow wynika, że pojawia się wzmianki na ten temat, np lata 2008 czy 2009 sa cześciej pojawiaja się niż te pozstałe, jednak nie ma jakis oczywistych wniosków. To co możemy powiedziec, ze słowo Minister jest jednym z bardziej popularych słów, nie jest jednak to prawda dla partii socjalnych, np: Workers Party gdzie używaja oni irlandziekgo określenia na to stanowisko. To co mozemy powiedzieć, to ze mimo wszytko jednak teamty skupiaja sie na sprawch ważnych dla pogladów (zieloni mówiąo energi) partii czy dzijacych sie w kraju ( healt care czy school). Ciekawe może być to, ze np w 2009 bardzo częstym słowem w wypowiedziach partii Progressive Democtrats było Art czy np wybieganie w przysłość do roku 2012."
   ]
  },
  {
   "cell_type": "markdown",
   "metadata": {
    "id": "9X8msYZoGR92"
   },
   "source": [
    "Teraz podobna analiza tylko z wywołaniem funckji noun_chunks, czyli chcemy zobaczyć jakie grupy słów czesto się ze sobą pojawiały"
   ]
  },
  {
   "cell_type": "code",
   "execution_count": null,
   "metadata": {
    "id": "QwDtkfm1GUAG"
   },
   "outputs": [],
   "source": [
    "year = 2008\n",
    "df_year = df[df.date.dt.year == year]\n",
    "parties = df_year['party_name'].unique()\n",
    "for party in parties:\n",
    "    temp = df_year[df_year['party_name'] == party]\n",
    "    lemmas = temp.speech_en.apply(lambda doc: list(doc.noun_chunks))\n",
    "    lemmas = lemmas.apply(lambda x: [''.join(str(el)) for el in x if len(el) > 2])\n",
    "    word_counts = dict(Counter(lemmas.sum()).most_common(30))\n",
    "    wc = WordCloud(width=800, height=400)\n",
    "    wc.generate_from_frequencies(frequencies=word_counts)\n",
    "    plt.figure(figsize=(10,8))\n",
    "    plt.title(party+str(year))\n",
    "    plt.imshow(wc)"
   ]
  },
  {
   "cell_type": "markdown",
   "metadata": {
    "id": "12pEfc-EGWQA"
   },
   "source": [
    "Faktycznie zestawienie ze sobą większej grupy słów daje ciekwsze rezulataty. Co wiecej lepiej się rozumie kontekst tych fraz oraz jest łatwiejsza ich interpretowalonść. (Przyczyny występowania danych słów ze sobą)"
   ]
  },
  {
   "cell_type": "markdown",
   "metadata": {
    "id": "N0iE9irhwb7m"
   },
   "source": [
    "# Praca z Dail_debates_1937-2011_ministers.tab"
   ]
  },
  {
   "cell_type": "markdown",
   "metadata": {
    "id": "SW5m94-xICaR"
   },
   "source": [
    "## Wstępne informacje"
   ]
  },
  {
   "cell_type": "code",
   "execution_count": null,
   "metadata": {
    "id": "EFLPmsb0wpma"
   },
   "outputs": [],
   "source": [
    "df_ministers = pd.read_table('Dail_debates_1937-2011_ministers.tab')"
   ]
  },
  {
   "cell_type": "code",
   "execution_count": null,
   "metadata": {
    "id": "cWWrUD6cwqCC"
   },
   "outputs": [],
   "source": [
    "df_ministers.head()"
   ]
  },
  {
   "cell_type": "markdown",
   "metadata": {
    "id": "oi1rh0nMwqI3"
   },
   "source": [
    "Widać, że będą w tej ramce ministrowie pełniący wiele funkcji, w różnych departamentach i z różnymi długościami kadencji. Trzeba o tym będzie pamiętać i uwzględniać to w analizie."
   ]
  },
  {
   "cell_type": "code",
   "execution_count": null,
   "metadata": {
    "id": "84HvwWxiwqOe"
   },
   "outputs": [],
   "source": [
    "df_ministers.info()"
   ]
  },
  {
   "cell_type": "markdown",
   "metadata": {
    "id": "oKS3nzxDwqXI"
   },
   "source": [
    "Widać, że w ramce będą potencjalne nulle, głównie w dacie zkończenia kadencji, co mogło nie nastąpić przed rokiem 2011. Ograniczmy się do naszych lat i sprawdźmy, to ponownie."
   ]
  },
  {
   "cell_type": "code",
   "execution_count": null,
   "metadata": {
    "id": "_UK2UKpzzOe8"
   },
   "outputs": [],
   "source": [
    "df_ministers.start_date = pd.to_datetime(df_ministers.start_date)\n",
    "df_ministers.end_date = pd.to_datetime(df_ministers.end_date)"
   ]
  },
  {
   "cell_type": "code",
   "execution_count": null,
   "metadata": {
    "id": "zFXXo66YzO8i"
   },
   "outputs": [],
   "source": [
    "df_ministers = df_ministers[( (df_ministers.start_date.dt.year<=2010) & (df_ministers.start_date.dt.year>=2007) )|( (df_ministers.end_date.dt.year<=2010) & (df_ministers.end_date.dt.year>=2007) )]"
   ]
  },
  {
   "cell_type": "code",
   "execution_count": null,
   "metadata": {
    "id": "I7G5_C5-zPBN"
   },
   "outputs": [],
   "source": [
    "df_ministers.info()"
   ]
  },
  {
   "cell_type": "markdown",
   "metadata": {
    "id": "pkqdTWjt08Zh"
   },
   "source": [
    "Jak się okazuje problem z nullami znika sam. Pozbądźmy się jeszcze kilku kolumn dla nas zbytecznych."
   ]
  },
  {
   "cell_type": "code",
   "execution_count": null,
   "metadata": {
    "id": "GjjtfBsG0Z0I"
   },
   "outputs": [],
   "source": [
    "df_ministers = df_ministers.drop([\"start_day\", \"start_month\", \"start_year\", \"end_day\", \"end_month\", \"end_year\", \"name\"], axis = 1)"
   ]
  },
  {
   "cell_type": "code",
   "execution_count": null,
   "metadata": {
    "id": "Jjkjo2lY3X5p"
   },
   "outputs": [],
   "source": [
    "df_ministers.head()"
   ]
  },
  {
   "cell_type": "markdown",
   "metadata": {
    "id": "rMBM7ywp3X-y"
   },
   "source": [
    "Utwórzmy kilka przydatnych zbiorków. Set z indeksami ministrów w interesujących nas latach oraz 2 słowniki, które będą wiązać pozycje lub departament z danym member ID."
   ]
  },
  {
   "cell_type": "code",
   "execution_count": null,
   "metadata": {
    "id": "gxJ4t_Dw3YD5"
   },
   "outputs": [],
   "source": [
    "ministers_ids = set(df_ministers.memberID.values)\n",
    "#ministers_ids"
   ]
  },
  {
   "cell_type": "code",
   "execution_count": null,
   "metadata": {
    "id": "p1Viol6_3YH-"
   },
   "outputs": [],
   "source": [
    "dict_pos = df_ministers.groupby('position')['memberID'].apply(set).to_dict()\n",
    "#dict_pos"
   ]
  },
  {
   "cell_type": "code",
   "execution_count": null,
   "metadata": {
    "id": "d1wt2-1H3YRM"
   },
   "outputs": [],
   "source": [
    "dict_depart = df_ministers.groupby('department')['memberID'].apply(set).to_dict()\n",
    "#dict_depart"
   ]
  },
  {
   "cell_type": "code",
   "execution_count": null,
   "metadata": {
    "id": "1I2wHcYG6vnz"
   },
   "outputs": [],
   "source": [
    "len(ministers_ids)"
   ]
  },
  {
   "cell_type": "markdown",
   "metadata": {
    "id": "cV37VyQL6w5i"
   },
   "source": [
    "Zatem w tym okresie było 52 osobnych ministrów róznego typu, w tym premierzy."
   ]
  },
  {
   "cell_type": "code",
   "execution_count": null,
   "metadata": {
    "id": "CjOE3Wc_7BOD"
   },
   "outputs": [],
   "source": [
    "print(dict_depart.keys())\n",
    "print(len(dict_depart.keys()))"
   ]
  },
  {
   "cell_type": "markdown",
   "metadata": {
    "id": "lGdCA7qt6w-u"
   },
   "source": [
    "Powyżej nazwy 27 resortów, zawsze można sobie wypritnować ten słownik, aby dodatkowo zyskać intuicję co do potencjalnej ilości ministrów w danym obszarze w latach 2007-2010 włącznie."
   ]
  },
  {
   "cell_type": "code",
   "execution_count": null,
   "metadata": {
    "id": "oU40-7Af6xDh"
   },
   "outputs": [],
   "source": [
    "print(dict_pos.keys())\n",
    "print(len(dict_pos.keys()))"
   ]
  },
  {
   "cell_type": "markdown",
   "metadata": {
    "id": "AL0KlQys6xH9"
   },
   "source": [
    "Budzić zainteresowanie mogą 2 obco brzmiące nazwy. Taoiseach to osoba premiera w Irlandzkim rządzie. W jego zakresie jest m.in. mianowanie osoby na urząd Tánaiste, czyli wicepremiera."
   ]
  },
  {
   "cell_type": "code",
   "execution_count": null,
   "metadata": {
    "id": "BN3qdWce6xMm"
   },
   "outputs": [],
   "source": [
    "print(\"Liczba premierów:\", len(dict_pos[\"Taoiseach\"]), \"Liczba wicepremierów:\", len(dict_pos[\"Tánaiste\"]))"
   ]
  },
  {
   "cell_type": "markdown",
   "metadata": {
    "id": "9tC1b15n6xRD"
   },
   "source": [
    "Większa liczba wicepremirów mówi, że jeden z nich został odwołany lub zrezygnował z pełnienia funkcji. Dokonując analizy osobno dla tych, tak mało licznych grup, trzeba pamiętać, że na charakter wypowiedzi wpływ będzie mieć zarówno pełniona funkcja, ale co ważne, sposób wypowiadania się danej jednostki. (Dłuższe/krótsze wypowiedzi mogą nie być powiązane z funkcją premiera, a jedynie sposobem wygłaszania przemówień i prowadzenia polityki tego z obecnej kadencji.)"
   ]
  },
  {
   "cell_type": "code",
   "execution_count": null,
   "metadata": {
    "id": "qnVZgjjM9yKx"
   },
   "outputs": [],
   "source": [
    "df_ministers.nunique()"
   ]
  },
  {
   "cell_type": "markdown",
   "metadata": {
    "id": "P6W1aorM3YVQ"
   },
   "source": [
    "Luźna myśl: w 2008 roku było także referendum na temat retyfikacji traktatu lizbońskiego, pytanie czy mogło być to w jakikolwiek sposób odzwierciedlone w naszym zbiorku?? Ostatecznie ludzie opowiedzieli się przeciwko, co stoi w opozycji do wczesnych sądaży."
   ]
  },
  {
   "cell_type": "markdown",
   "metadata": {
    "id": "EXhdLwf9--ai"
   },
   "source": [
    "Zastanawiać może, skąd taka liczba urzędów, 3 przypadające na okres 2007-2010. Spodziewalibyśmy się 2: jeden przed wyborami w 2007 roku, drugi po nich. To może również tłumaczyć 3 wicepremirów wcześniej i przeczyć wnioskowi, że któryś został odwołany. Odpowiedzi dostarcza wikipedia. \"There were two Governments of the 30th Dáil, which was elected at the 2007 general election on 24 May 2007. The 27th Government of Ireland (14 June 2007 – 7 May 2008) was led by Bertie Ahern as Taoiseach, and the 28th Government of Ireland (7 May 2008 – 9 March 2011) was led by Brian Cowen as Taoiseach.\" W obrędbie tej samej koalicji 2 partii nastąpiła wymiana rządu. Premierem nowego stał się Brian Cowen, uprzednio będący na funkcji wicepremiera. (Fakt wystąpowania tylko 2 premierów tłumaczy fakt, że Bertie Ahern pełnił tę funkcję także przed rokiem 2007, bo od 1997)."
   ]
  },
  {
   "cell_type": "markdown",
   "metadata": {
    "id": "bNGY9IIq--lx"
   },
   "source": [
    "## Długość tekstów ministrowie vs. nieministrowie"
   ]
  },
  {
   "cell_type": "code",
   "execution_count": null,
   "metadata": {
    "id": "OTs8P09t--8C"
   },
   "outputs": [],
   "source": [
    "#non-ministers\n",
    "doc_lens_nm = df.loc[~df['memberID'].isin(ministers_ids)].speech_en.str.len()\n",
    "doc_lens_nm.hist(title = \"Nieministrowie\",log_y=True)"
   ]
  },
  {
   "cell_type": "code",
   "execution_count": null,
   "metadata": {
    "id": "O34XtgJ8IkX7"
   },
   "outputs": [],
   "source": [
    "#ministers\n",
    "\n",
    "doc_lens_m = df.loc[df['memberID'].isin(ministers_ids)].speech_en.str.len()\n",
    "doc_lens_m.hist(title = \"Ministrowie\", log_y=True)"
   ]
  },
  {
   "cell_type": "markdown",
   "metadata": {
    "id": "mIL-sjW_Ike_"
   },
   "source": [
    "Można wyciągnąć wstępne wnioski co do długości speechy i rozkładów w poszczególnych grupach. Zastanawiający jest potencjalny brak dużej różnicy w ogólnej liczbie wystąpień. Sprawdźmy zatem ile jest nieministrów w kontrze do 52 ministrów."
   ]
  },
  {
   "cell_type": "code",
   "execution_count": null,
   "metadata": {
    "id": "GzqiXOs-Ikm_"
   },
   "outputs": [],
   "source": [
    "print(\"Liczba speechy nieministrów:\", len(df.loc[~df['memberID'].isin(ministers_ids)]), \"liczba speechy ministrów:\", len(df.loc[df['memberID'].isin(ministers_ids)]))"
   ]
  },
  {
   "cell_type": "code",
   "execution_count": null,
   "metadata": {
    "id": "4MisF8MKIktD"
   },
   "outputs": [],
   "source": [
    "print(\"Liczba wypowiadających się nieministrów:\", len(set(df.loc[~df['memberID'].isin(ministers_ids)]['memberID'])))"
   ]
  },
  {
   "cell_type": "markdown",
   "metadata": {
    "id": "AnrQI26kLXSI"
   },
   "source": [
    "Dosyć zaskakująca dysproporcja, wielu wypowiadających się pełniło wcześniej lub poźniej funkcję ministra. Można to jednak uzasadniaż aż 3 rządami oraz faktem, że większość ze 160 miejsc będzie mieć rządząca koalicja. \n",
    "Istotniejsze jest, że można by rozważyć pomysł dokonywania analiz ze względu także czy dana wypowiedź padła z okresu pełnienia funkcji ministra."
   ]
  },
  {
   "cell_type": "code",
   "execution_count": null,
   "metadata": {
    "id": "8VJ7ZTgOIkyu"
   },
   "outputs": [],
   "source": [
    "data = [doc_lens_m, doc_lens_nm]\n",
    "\n",
    "# Multiple box plots on one Axes\n",
    "fig, ax = plt.subplots(figsize=(19, 13))\n",
    "#fig = plt.figure(figsize=(19, 3))\n",
    "ax.boxplot(data)\n",
    "#ax.set_xticklabels[\"Ministers\", \"Non-ministers\"]\n",
    "plt.xticks([1, 2], [\"Ministers\", \"Non-ministers\"])\n",
    "ax.set_yscale('log')\n",
    "plt.show()"
   ]
  },
  {
   "cell_type": "markdown",
   "metadata": {
    "id": "8gFrkIgpOJz_"
   },
   "source": [
    "Ministrowie mają średnio dłuższe przemówienia, przesunięte są także odpowiednie kwantyle w kierunku większych wartości. Różnica mogłaby być jeszcze większa biorąc np. długość wypowiedzi tylko z okresu pełnienia funkcji."
   ]
  },
  {
   "cell_type": "markdown",
   "metadata": {
    "id": "GOwTr2UhOJ7M"
   },
   "source": [
    "## Word clouds ministrowie vs. nieministrowie"
   ]
  },
  {
   "cell_type": "code",
   "execution_count": null,
   "metadata": {
    "id": "CNqpltooPAua"
   },
   "outputs": [],
   "source": [
    "def cloud_from_lemmas(lemmas):\n",
    "  word_counts = Counter(lemmas.sum())\n",
    "\n",
    "  wc = WordCloud(width=800, height=400)\n",
    "  wc.generate_from_frequencies(frequencies=word_counts)\n",
    "  plt.figure(figsize=(10,8))\n",
    "  plt.imshow(wc)"
   ]
  },
  {
   "cell_type": "markdown",
   "metadata": {
    "id": "FsB1g4WxQSNF"
   },
   "source": [
    "Słowa dla nieministrów."
   ]
  },
  {
   "cell_type": "code",
   "execution_count": null,
   "metadata": {
    "id": "SAPKpIBeOKCa"
   },
   "outputs": [],
   "source": [
    "lemmas_nm = df.loc[~df['memberID'].isin(ministers_ids)].speech_en.apply(lambda doc: [token.lemma_ for token in doc if not token.is_stop if not token.is_punct])\n",
    "\n",
    "cloud_from_lemmas(lemmas_nm)"
   ]
  },
  {
   "cell_type": "markdown",
   "metadata": {
    "id": "XcRrMPPXOKIR"
   },
   "source": [
    "Słowa dla ministrów:"
   ]
  },
  {
   "cell_type": "code",
   "execution_count": null,
   "metadata": {
    "id": "T6iigc3UQ2vy"
   },
   "outputs": [],
   "source": [
    "lemmas_m = df.loc[~df['memberID'].isin(ministers_ids)].speech_en.apply(lambda doc: [token.lemma_ for token in doc if not token.is_stop if not token.is_punct])\n",
    "\n",
    "cloud_from_lemmas(lemmas_m)"
   ]
  },
  {
   "cell_type": "markdown",
   "metadata": {
    "id": "4lzhWfPqQ23N"
   },
   "source": [
    "Mimo faktu, że duże przecięcie będzie wynikać z faktu występowania słów charakterystycznych dla polityki, zacznijmy rozważać speeche ministrów jedynie za ich kadencji. "
   ]
  },
  {
   "cell_type": "markdown",
   "metadata": {
    "id": "QmRp9tiFQ29A"
   },
   "source": [
    "Odnotujmy już teraz fakt, że analizując słowa minstrów z tych lat, analizujemy jednocześnie słowa członków koalicji rządzącej FF-Green-PD. Słowa powiązane z wartościami partii, a nie tylko pozycją."
   ]
  },
  {
   "cell_type": "code",
   "execution_count": null,
   "metadata": {
    "id": "3F8rqZsAbHRb"
   },
   "outputs": [],
   "source": [
    "min_years_start = df_ministers.groupby('memberID')['start_date'].apply(list).to_dict()#już pomijamy fakt ewentualnej przerwy w kadencji w wyliczeniach\n",
    "for k in min_years_start.keys():\n",
    "  min_years_start[k] = min(min_years_start[k])\n",
    "\n",
    "min_years_end = df_ministers.groupby('memberID')['end_date'].apply(list).to_dict()#już pomijamy fakt ewentualnej przerwy w kadencji w wyliczeniach\n",
    "for k in min_years_end.keys():\n",
    "  min_years_end[k] = max(min_years_end[k])\n",
    "\n",
    "min_years_end"
   ]
  },
  {
   "cell_type": "code",
   "execution_count": null,
   "metadata": {
    "id": "cWzhxpGrabvD"
   },
   "outputs": [],
   "source": [
    "df_only_curr_minister = df.loc[(df['memberID'].isin(ministers_ids)) & (df['date'] < df['memberID'].apply(lambda x: min_years_end.get(x))) & (df['date'] > df['memberID'].apply(lambda x: min_years_start.get(x)))] #& (df['date'].dt> min_years_end[df['memberID']])"
   ]
  },
  {
   "cell_type": "code",
   "execution_count": null,
   "metadata": {
    "id": "z9pmERgtacLJ"
   },
   "outputs": [],
   "source": [
    "lemmas_curr_min = df_only_curr_minister.speech_en.apply(lambda doc: [token.lemma_ for token in doc if not token.is_stop if not token.is_punct])\n",
    "\n",
    "cloud_from_lemmas(lemmas_curr_min)"
   ]
  },
  {
   "cell_type": "markdown",
   "metadata": {
    "id": "HQDi0bCFgwdl"
   },
   "source": [
    "Taka analiza pozwala zauważyć, że słowa typowe dla polityki zmieniają się wraz z pozycją. Także używane zwroty grzecznościowe (z pewnością rozpoczynające część z wystąpień). Prócz słów typowych można doszukiwać się także innych, przykładowo symbol euro sugerujący podnoszenie kwestii wydatków lub planowania budżetu."
   ]
  },
  {
   "cell_type": "markdown",
   "metadata": {
    "id": "ANxv8rUOgwho"
   },
   "source": [
    "Teraz spróbujmy odflitrować niektóre słowa i powtórzyć tę samą chmurę."
   ]
  },
  {
   "cell_type": "code",
   "execution_count": null,
   "metadata": {
    "id": "BlV36ytQmx31"
   },
   "outputs": [],
   "source": [
    "not_interesting = set([\"department\", \"deputy\", \"provide\", \"service\", \"include\", \"project\", \"issue\", \"minister\", \"matter\", \"government\", \"statement\", \"year\", \"person\", \"people\", \"ask\", \"number\", \"detail\", \"supply\"])\n"
   ]
  },
  {
   "cell_type": "code",
   "execution_count": null,
   "metadata": {
    "id": "XoLoACYqlWo7"
   },
   "outputs": [],
   "source": [
    "lemmas_specific = df_only_curr_minister.speech_en.apply(lambda doc: [token.lemma_ for token in doc if not token.is_stop if not token.is_punct if not token.lemma_.lower() in not_interesting])\n",
    "\n",
    "cloud_from_lemmas(lemmas_specific)"
   ]
  },
  {
   "cell_type": "markdown",
   "metadata": {
    "id": "VsRGYwbFkBbW"
   },
   "source": [
    "Teraz na lupę zbiór komplementarny do tego, czyli nieministrowie w trakcie wygłaszanie przemówień."
   ]
  },
  {
   "cell_type": "code",
   "execution_count": null,
   "metadata": {
    "id": "vhgAHQTJkBfe"
   },
   "outputs": [],
   "source": [
    "lemmas_specific = df.loc[~df[\"speechID\"].isin(set(df_only_curr_minister[\"speechID\"]))].speech_en.apply(lambda doc: [token.lemma_ for token in doc if not token.is_stop if not token.is_punct if not token.lemma_.lower() in not_interesting])\n",
    "\n",
    "cloud_from_lemmas(lemmas_specific)"
   ]
  },
  {
   "cell_type": "markdown",
   "metadata": {
    "id": "T6QBAkCfkBik"
   },
   "source": [
    "Można zauważyć różnice w danych tematach. W pierwszym wypadku istotne wydają się np. work, school, Ireland, euro, drugi to np. time, County, child, Health, Bill."
   ]
  },
  {
   "cell_type": "markdown",
   "metadata": {
    "id": "4ihA-s2eov54"
   },
   "source": [
    "## Barploty ministrowie vs. nieministrowie"
   ]
  },
  {
   "cell_type": "code",
   "execution_count": null,
   "metadata": {
    "id": "4wCabUiXov91"
   },
   "outputs": [],
   "source": [
    "def plot_counts(counts):\n",
    "  fig = px.bar(counts,orientation='h', y='word', x='count')\n",
    "\n",
    "  fig['layout']['yaxis']['autorange'] = \"reversed\"\n",
    "  fig.update_layout(bargap=0.30, font={'size':10})\n",
    "  return fig"
   ]
  },
  {
   "cell_type": "code",
   "execution_count": null,
   "metadata": {
    "id": "CTTubVP2owB-"
   },
   "outputs": [],
   "source": [
    "#word count for certain group\n",
    "lemmas_only_ministers = df_only_curr_minister.speech_en.apply(lambda doc: [token.lemma_ for token in doc if not token.is_stop if not token.is_punct])\n",
    "word_counts_only_ministers = Counter(lemmas_only_ministers.sum())\n",
    "\n",
    "lemmas_only_non_ministers = df.loc[~df[\"speechID\"].isin(set(df_only_curr_minister[\"speechID\"]))].speech_en.apply(lambda doc: [token.lemma_ for token in doc if not token.is_stop if not token.is_punct])\n",
    "word_counts_only_non_ministers = Counter(lemmas_only_non_ministers.sum())\n",
    "\n"
   ]
  },
  {
   "cell_type": "markdown",
   "metadata": {
    "id": "wIB1WnS_yVbc"
   },
   "source": [
    "Sporządzimy wykres, gdzie będą znajdować się słowa najcześciej wypowiedziane przez daną grupę, nie występujące ani raz w drugiej grupie. Najpierw dla ministrów"
   ]
  },
  {
   "cell_type": "markdown",
   "metadata": {
    "id": "ScvCGUJZyrQg"
   },
   "source": [
    "Ministrowie:"
   ]
  },
  {
   "cell_type": "code",
   "execution_count": null,
   "metadata": {
    "id": "EJojcH0oowFc"
   },
   "outputs": [],
   "source": [
    "counts = pd.DataFrame(Counter({k: v for k, v in word_counts_only_ministers.items() if k not in word_counts_only_non_ministers.keys()}).most_common(30), columns=['word', 'count'])\n",
    "plot_counts(counts)"
   ]
  },
  {
   "cell_type": "code",
   "execution_count": null,
   "metadata": {
    "id": "rBC2tBtwowIw"
   },
   "outputs": [],
   "source": [
    "counts = pd.DataFrame(Counter({k: v for k, v in word_counts_only_non_ministers.items() if k not in word_counts_only_ministers.keys()}).most_common(30), columns=['word', 'count'])\n",
    "\n",
    "plot_counts(counts)"
   ]
  },
  {
   "cell_type": "markdown",
   "metadata": {
    "id": "b1CP7J2T0Chn"
   },
   "source": [
    "Bardziej interesujący wydaje się wykres numer 2. Zestaw słow jak disgrace, scandal, shame, guillotine, outragous, coalition, jail, comfort, hang, fool, syndrome, savage. Są to słowa silnie nacechowane. Po pierwsze widzimy, że ministrowie mogą być o wiele bardziej zachowawczy w doborze słów. Po drugie takie słowa mogą służyć do formułowania zarzutów wobec rządzącej obecnie koalicji."
   ]
  },
  {
   "cell_type": "code",
   "execution_count": null,
   "metadata": {
    "id": "OudZMBoeE9hY"
   },
   "outputs": [],
   "source": [
    "non_min_speeches = df.loc[~df[\"speechID\"].isin(set(df_only_curr_minister[\"speechID\"]))]"
   ]
  },
  {
   "cell_type": "code",
   "execution_count": null,
   "metadata": {
    "id": "-nGO3DZM1vJp"
   },
   "outputs": [],
   "source": [
    "non_min_speeches.loc[list(lemmas_only_non_ministers.apply(lambda x: \"jail\" in x))][\"speech\"]"
   ]
  },
  {
   "cell_type": "code",
   "execution_count": null,
   "metadata": {
    "id": "PtlM88ES1vRp"
   },
   "outputs": [],
   "source": [
    "non_min_speeches.loc[list(lemmas_only_non_ministers.apply(lambda x: \"jail\" in x))][\"speech\"][3743888]"
   ]
  },
  {
   "cell_type": "markdown",
   "metadata": {
    "id": "mEh3OxcW5FgZ"
   },
   "source": [
    "Można sobie poczytać kilka wybranych. Pierwsze nie zawierają gróźb więzenia dla \"niekompetentnych rządzących\", jednak i tak dosyć łatwo znaleźć zarzuty wobec rządu. Minister for Justice and Law Reform często jest wspominany w tych przemówieniach"
   ]
  },
  {
   "cell_type": "code",
   "execution_count": null,
   "metadata": {
    "id": "Kh8yEBjS1vW2"
   },
   "outputs": [],
   "source": [
    "non_min_speeches.loc[list(lemmas_only_non_ministers.apply(lambda x: \"guillotine\" in x))][\"speech\"]"
   ]
  },
  {
   "cell_type": "code",
   "execution_count": null,
   "metadata": {
    "id": "2tOoXxvw3LlA"
   },
   "outputs": [],
   "source": [
    "non_min_speeches.loc[list(lemmas_only_non_ministers.apply(lambda x: \"guillotine\" in x))][\"speech\"][3763831]"
   ]
  },
  {
   "cell_type": "code",
   "execution_count": null,
   "metadata": {
    "id": "IjTdGM_27XaG"
   },
   "outputs": [],
   "source": [
    "non_min_speeches.loc[list(lemmas_only_non_ministers.apply(lambda x: \"guillotine\" in x))][\"speech\"][3750224]"
   ]
  },
  {
   "cell_type": "markdown",
   "metadata": {
    "id": "1HgqECKp3LpH"
   },
   "source": [
    "Allocation of time or 'guillotine' motions have been used by governments to limit the amount of time that MPs can spend debating a particular stage of a Bill in the House of Commons.\n",
    "\n",
    "Wyrażanie niezadowolenia wobec rządu.\n",
    "\n",
    "Teraz już ostatnie shame. Do analizy pozostałych zachęcamy samodzielnie."
   ]
  },
  {
   "cell_type": "code",
   "execution_count": null,
   "metadata": {
    "id": "wBLShlXu7NsN"
   },
   "outputs": [],
   "source": [
    "non_min_speeches.loc[list(lemmas_only_non_ministers.apply(lambda x: \"scandal\" in x))][\"speech\"]"
   ]
  },
  {
   "cell_type": "code",
   "execution_count": null,
   "metadata": {
    "id": "_VBBdE5h8Ps6"
   },
   "outputs": [],
   "source": [
    "non_min_speeches.loc[list(lemmas_only_non_ministers.apply(lambda x: \"scandal\" in x))][\"speech\"][3783355    ]"
   ]
  },
  {
   "cell_type": "markdown",
   "metadata": {
    "id": "ishuGZxj8P1x"
   },
   "source": [
    "Pierwsze zdanie z powyższego outputu."
   ]
  },
  {
   "cell_type": "markdown",
   "metadata": {
    "id": "w26zakNN8P4r"
   },
   "source": [
    "## TF-IDF"
   ]
  },
  {
   "cell_type": "code",
   "execution_count": null,
   "metadata": {
    "id": "rYrdkn5C7Nwf"
   },
   "outputs": [],
   "source": [
    "# !pip install scikit-learn"
   ]
  },
  {
   "cell_type": "code",
   "execution_count": null,
   "metadata": {
    "id": "iDxTuJqC-ytq"
   },
   "outputs": [],
   "source": [
    "# from sklearn.feature_extraction.text import TfidfVectorizer"
   ]
  },
  {
   "cell_type": "code",
   "execution_count": null,
   "metadata": {
    "id": "YK31KJ3n-1MZ"
   },
   "outputs": [],
   "source": [
    "# lemmas_common = df.speech_en.apply(lambda doc: [token.lemma_ for token in doc if not token.is_stop if not token.is_punct])\n",
    "\n",
    "# vectorizer = TfidfVectorizer()\n",
    "# X = vectorizer.fit_transform(lemmas_common.apply(lambda x: \" \".join(x)))\n",
    "# vectorizer.get_feature_names_out()\n",
    "\n",
    "# tfidf_df = pd.DataFrame(X.toarray(), index = lemmas_common.keys(),columns=vectorizer.get_feature_names())\n",
    "\n",
    "# tfidf_df = tfidf_df.stack().reset_index()\n",
    "\n",
    "# tfidf_df = tfidf_df.rename(columns={0:'tfidf','level_1': 'term', 'level_0': 'speech_id'})\n",
    "# to_cos = tfidf_df.sort_values(by=['speech_id','tfidf'], ascending=[True,False]).groupby(['speech_id'])\n",
    "# Counter(to_cos[\"term\"]).most_common(30)"
   ]
  },
  {
   "cell_type": "markdown",
   "metadata": {
    "id": "1BRwp_BI_eg_"
   },
   "source": [
    "W końcu nie używamy go, był prototyp do wyciągnięcia np. 5 słow z najwyższym indexem z każdego speecha i potem grupowanie ich np. dla konkretnej partii i wyciąganie most common."
   ]
  },
  {
   "cell_type": "markdown",
   "metadata": {
    "id": "t50-1rbh_elj"
   },
   "source": [
    "## Względem departamnetów"
   ]
  },
  {
   "cell_type": "markdown",
   "metadata": {
    "id": "U1uJXMi5D5Ze"
   },
   "source": [
    "Ten notebook i tak jest długi prezentujemy tylko resort finansów, można tak zrobić pozostałe i powyciągać wnioski zminiając nazwę departamentu."
   ]
  },
  {
   "cell_type": "code",
   "execution_count": null,
   "metadata": {
    "id": "NfrDQhV7DLy3"
   },
   "outputs": [],
   "source": [
    "lemmas_fin = df.loc[df['memberID'].isin(dict_depart[\"Finance\"])].speech_en.apply(lambda doc: [token.lemma_ for token in doc if not token.is_stop if not token.is_punct if not token.lemma_.lower() in not_interesting])\n",
    "word_counts_fin = Counter(lemmas_fin.sum())\n",
    "counts_fin = pd.DataFrame(word_counts_fin.most_common(30), columns=['word', 'count'])\n",
    "plot_counts(counts_fin)"
   ]
  },
  {
   "cell_type": "markdown",
   "metadata": {
    "id": "8p_MrF7m_eqC"
   },
   "source": [
    "Nie powinna dziwić np. popularność słowa tax czy euro w przemowach ministra finansów"
   ]
  },
  {
   "cell_type": "markdown",
   "metadata": {
    "id": "i6qthBwXwqdi"
   },
   "source": [
    "# Institutional Grammar tagging algorithm"
   ]
  },
  {
   "cell_type": "code",
   "execution_count": null,
   "metadata": {
    "id": "biheLmswwtne"
   },
   "outputs": [],
   "source": [
    "\"\"\"\n",
    "Program to implement and demonstrate institutional grammar tagging algorithm. Due to some problems with neuralcoref\n",
    "library, coreference resolution does not work.\n",
    "\"\"\"\n",
    "\n",
    "\n",
    "# Library for coreference resolution\n",
    "# !pip install neuralcoref\n",
    "\n",
    "# Neuralcoref is not compatible with spaCy v3.0\n",
    "# import neuralcoref\n",
    "\n",
    "# neuralcoref.add_to_pipe(en)\n",
    "from typing import Tuple, Union, List, Any, Optional\n",
    "\n",
    "import spacy as spacy\n",
    "\n",
    "\n",
    "def institutional_grammar_tagging_algorithm(sentence: spacy.tokens.Span) -> \\\n",
    "        Tuple[Union[List[Any], Any], Union[List[Any], Any], List[Optional[Any]]]:\n",
    "    \"\"\"\n",
    "    Implementation of institutional grammar tagging algorithm.\n",
    "    :param sentence: deontic sentence\n",
    "    :return: attributes, objects and verbs of the given deontic sentence\n",
    "    \"\"\"\n",
    "    attributes = []\n",
    "    objects = []\n",
    "    verbs = []\n",
    "    verb = sentence.root\n",
    "\n",
    "    while verb is not None:\n",
    "        attr = verb\n",
    "        verb = None\n",
    "        verbs.append(attr)\n",
    "\n",
    "        newSubj = [c for c in attr.children if c.dep_ == \"nsubj\"]\n",
    "        newPassiveSubj = [c for c in attr.children if c.dep_ == \"nsubjpass\"]\n",
    "\n",
    "        if len(newSubj) == 0 and len(newPassiveSubj) == 0:\n",
    "            attributes = [clausal for c in attr.children for clausal in c.children if c.dep_ == \"csubj\"]\n",
    "\n",
    "        attributes = attributes + newSubj\n",
    "        objects = objects + newPassiveSubj + [c for c in attr.children if c.dep_ == \"dobj\"]\n",
    "\n",
    "        if attr.dep_ == \"conj\" and attr.pos_ == \"VERB\":\n",
    "            verb = attr.head\n",
    "\n",
    "    for subject in attributes:\n",
    "        for attr in attributes:\n",
    "            if attr.dep_ == \"conj\":\n",
    "                attributes.append(subject)\n",
    "\n",
    "            attributes = attributes + [s for s in subject.children if s.dep_ == \"conj\"]\n",
    "\n",
    "            if subject.pos_ == \"PRONOUN\":\n",
    "                # coreference resolution does not work\n",
    "                pass\n",
    "\n",
    "    for objectx in objects:\n",
    "        objects = objects + [s for s in objectx.children if s.dep_ == \"conj\"]\n",
    "\n",
    "    return attributes, objects, verbs\n"
   ]
  },
  {
   "cell_type": "code",
   "execution_count": null,
   "metadata": {
    "id": "vRgRNXr-wtw2"
   },
   "outputs": [],
   "source": [
    "testcase1 = en(\"Designers, builders, and manufacturers should submit details and documentation to the assesment body. Any decisions made by a machine must be logged and retained.\")\n",
    "for sent in testcase1.sents:\n",
    "  print(institutional_grammar_tagging_algorithm(sent))\n",
    "print(\"\\n\")\n",
    "for sent in testcase1.sents:\n",
    "  print(sent.root)"
   ]
  },
  {
   "cell_type": "code",
   "execution_count": null,
   "metadata": {
    "id": "2hkFJDSXG1wW"
   },
   "outputs": [],
   "source": [
    "from spacy import displacy\n",
    "for sent in testcase1.sents:\n",
    "  displacy.render(sent, jupyter=True)"
   ]
  },
  {
   "cell_type": "code",
   "execution_count": null,
   "metadata": {
    "id": "fV2qbA2OG3p4"
   },
   "outputs": [],
   "source": [
    "spacy.explain(\"appos\")"
   ]
  },
  {
   "cell_type": "code",
   "execution_count": null,
   "metadata": {
    "id": "H_VHbsJIG54c"
   },
   "outputs": [],
   "source": []
  }
 ],
 "metadata": {
  "colab": {
   "collapsed_sections": [],
   "name": "PD1_Koziel_Nocon_Skwarek.ipynb",
   "provenance": []
  },
  "kernelspec": {
   "display_name": "Python 3",
   "language": "python",
   "name": "python3"
  },
  "language_info": {
   "codemirror_mode": {
    "name": "ipython",
    "version": 3
   },
   "file_extension": ".py",
   "mimetype": "text/x-python",
   "name": "python",
   "nbconvert_exporter": "python",
   "pygments_lexer": "ipython3",
   "version": "3.8.12"
  }
 },
 "nbformat": 4,
 "nbformat_minor": 1
}
