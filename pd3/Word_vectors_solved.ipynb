{
  "nbformat": 4,
  "nbformat_minor": 0,
  "metadata": {
    "colab": {
      "name": "Word_vectors.ipynb",
      "provenance": [],
      "collapsed_sections": []
    },
    "kernelspec": {
      "name": "python3",
      "display_name": "Python 3"
    },
    "language_info": {
      "name": "python"
    }
  },
  "cells": [
    {
      "cell_type": "code",
      "execution_count": 1,
      "metadata": {
        "id": "99zM_RyW09Lr",
        "colab": {
          "base_uri": "https://localhost:8080/"
        },
        "outputId": "139e454c-0f8d-483b-c515-f5a779c2df0b"
      },
      "outputs": [
        {
          "output_type": "stream",
          "name": "stdout",
          "text": [
            "[==================================================] 100.0% 252.1/252.1MB downloaded\n"
          ]
        }
      ],
      "source": [
        "import gensim.downloader \n",
        "\n",
        "wv = gensim.downloader.load(\"glove-wiki-gigaword-200\")"
      ]
    },
    {
      "cell_type": "code",
      "source": [
        "words = ['barrels', 'ecuador','venezuela','poland', 'energy', 'industry', 'kuwait', 'oil', 'petroleum', 'iraq']"
      ],
      "metadata": {
        "id": "BGt7FghX1HNE"
      },
      "execution_count": 2,
      "outputs": []
    },
    {
      "cell_type": "code",
      "source": [
        "from sklearn.decomposition import PCA, TruncatedSVD\n",
        "import matplotlib.pyplot as plt\n",
        "\n",
        "def plot_words(words):\n",
        "  svd = TruncatedSVD(n_components=2)\n",
        "  d_words = svd.fit_transform(wv[words])\n",
        "  xs, ys = [], []\n",
        "  for xy in d_words:\n",
        "    [x,y] = xy\n",
        "    xs.append(x)\n",
        "    ys.append(y)\n",
        "  fig, ax = plt.subplots()\n",
        "  ax.scatter(xs, ys)\n",
        "\n",
        "  for i, word in enumerate(words):\n",
        "      ax.annotate(word, (xs[i], ys[i]))"
      ],
      "metadata": {
        "id": "5mQtL0Po2qpc"
      },
      "execution_count": 3,
      "outputs": []
    },
    {
      "cell_type": "code",
      "source": [
        "plot_words(words)"
      ],
      "metadata": {
        "id": "cIAw0KAn1SzT",
        "colab": {
          "base_uri": "https://localhost:8080/",
          "height": 266
        },
        "outputId": "6b9090e4-af3a-4eb7-9c03-6cf4894f0433"
      },
      "execution_count": 4,
      "outputs": [
        {
          "output_type": "display_data",
          "data": {
            "text/plain": [
              "<Figure size 432x288 with 1 Axes>"
            ],
            "image/png": "[encoded data removed]"
          },
          "metadata": {
            "needs_background": "light"
          }
        }
      ]
    },
    {
      "cell_type": "markdown",
      "source": [
        "### Polysynemous words"
      ],
      "metadata": {
        "id": "wbuDRWQrC6S-"
      }
    },
    {
      "cell_type": "code",
      "source": [
        "wv.most_similar(\"record\") #git"
      ],
      "metadata": {
        "colab": {
          "base_uri": "https://localhost:8080/"
        },
        "id": "R5_ifF5M8czD",
        "outputId": "ebe39ded-c6ba-4296-8752-db3fae999deb"
      },
      "execution_count": 5,
      "outputs": [
        {
          "output_type": "execute_result",
          "data": {
            "text/plain": [
              "[('records', 0.7163501381874084),\n",
              " ('recorded', 0.6425708532333374),\n",
              " ('previous', 0.6336771249771118),\n",
              " ('year', 0.5889142155647278),\n",
              " ('recording', 0.5879488587379456),\n",
              " ('last', 0.5812119245529175),\n",
              " ('winning', 0.5789461135864258),\n",
              " ('best', 0.57738196849823),\n",
              " ('career', 0.5759952664375305),\n",
              " ('time', 0.5627326965332031)]"
            ]
          },
          "metadata": {},
          "execution_count": 5
        }
      ]
    },
    {
      "cell_type": "code",
      "source": [
        "wv.most_similar(\"shell\") # firma i łuski"
      ],
      "metadata": {
        "colab": {
          "base_uri": "https://localhost:8080/"
        },
        "id": "szOkFGO580Z1",
        "outputId": "59745e16-c513-4665-8ff7-ccfbe86036ca"
      },
      "execution_count": 6,
      "outputs": [
        {
          "output_type": "execute_result",
          "data": {
            "text/plain": [
              "[('shells', 0.6614183783531189),\n",
              " ('mortar', 0.5519026517868042),\n",
              " ('oil', 0.5103628635406494),\n",
              " ('casing', 0.5095691084861755),\n",
              " ('chevron', 0.5001953840255737),\n",
              " ('bp', 0.49561449885368347),\n",
              " ('casings', 0.48896804451942444),\n",
              " ('exxonmobil', 0.4825778901576996),\n",
              " ('gas', 0.47775182127952576),\n",
              " ('mobil', 0.4607611298561096)]"
            ]
          },
          "metadata": {},
          "execution_count": 6
        }
      ]
    },
    {
      "cell_type": "code",
      "source": [
        "wv.most_similar(\"python\") # 3 znaczenia"
      ],
      "metadata": {
        "colab": {
          "base_uri": "https://localhost:8080/"
        },
        "id": "wFxGF5n39ItF",
        "outputId": "ddaaaa19-9b88-4641-8468-9963a888218a"
      },
      "execution_count": 7,
      "outputs": [
        {
          "output_type": "execute_result",
          "data": {
            "text/plain": [
              "[('monty', 0.6892720460891724),\n",
              " ('spamalot', 0.5611782073974609),\n",
              " ('cleese', 0.5454379916191101),\n",
              " ('php', 0.5255268216133118),\n",
              " ('pythons', 0.5076838731765747),\n",
              " ('perl', 0.4999809265136719),\n",
              " ('scripting', 0.4851018786430359),\n",
              " ('skit', 0.47538265585899353),\n",
              " ('reticulatus', 0.4709733724594116),\n",
              " ('crocodile', 0.4570692777633667)]"
            ]
          },
          "metadata": {},
          "execution_count": 7
        }
      ]
    },
    {
      "cell_type": "markdown",
      "source": [
        "TODO: find one more"
      ],
      "metadata": {
        "id": "8jHskINJC8yk"
      }
    },
    {
      "cell_type": "code",
      "source": [
        "wv.most_similar(\"reserve\")"
      ],
      "metadata": {
        "colab": {
          "base_uri": "https://localhost:8080/"
        },
        "id": "qViQu2r7L2cf",
        "outputId": "1b9181ac-f722-40f8-865a-53bb84f28401"
      },
      "execution_count": 14,
      "outputs": [
        {
          "output_type": "execute_result",
          "data": {
            "text/plain": [
              "[('reserves', 0.6434080004692078),\n",
              " ('fed', 0.6379982233047485),\n",
              " ('interest', 0.5360831022262573),\n",
              " ('central', 0.5168545246124268),\n",
              " ('greenspan', 0.5144596099853516),\n",
              " ('guard', 0.5031501054763794),\n",
              " ('policymakers', 0.5028124451637268),\n",
              " ('bernanke', 0.5010292530059814),\n",
              " ('federal', 0.4990732669830322),\n",
              " ('corps', 0.48220789432525635)]"
            ]
          },
          "metadata": {},
          "execution_count": 14
        }
      ]
    },
    {
      "cell_type": "markdown",
      "source": [
        "Mamy tutaj kolejny przykład słowa, które, w zależności od kontekstu, ma wiele znaczeń. Jednym z nich jest po prostu czasownik \"rezerwować\". Drugim znaczeniem jest rezerwa (na przykład federalna, rezerwa surowców). Kolejne znaczenie słowa \"rezerwa\" jest w kontekście militarnym - \"rezerwa\" jako jednostka wojskowa."
      ],
      "metadata": {
        "id": "en1IcVmQOYst"
      }
    },
    {
      "cell_type": "markdown",
      "source": [
        "## Analogies"
      ],
      "metadata": {
        "id": "-hQ5hnlQBW3E"
      }
    },
    {
      "cell_type": "markdown",
      "source": [
        "Good analogies"
      ],
      "metadata": {
        "id": "O86_cysvBZnu"
      }
    },
    {
      "cell_type": "code",
      "source": [
        "wv.most_similar(positive=['warsaw', 'italy'], negative=['poland'])"
      ],
      "metadata": {
        "colab": {
          "base_uri": "https://localhost:8080/"
        },
        "id": "i9lG3HON9Xgc",
        "outputId": "0ea60bd4-b006-4649-dce9-d03423c8ed3d"
      },
      "execution_count": 15,
      "outputs": [
        {
          "output_type": "execute_result",
          "data": {
            "text/plain": [
              "[('rome', 0.7152276039123535),\n",
              " ('italian', 0.6521812081336975),\n",
              " ('milan', 0.6067098379135132),\n",
              " ('turin', 0.5554434657096863),\n",
              " ('paris', 0.5553934574127197),\n",
              " ('bologna', 0.5539686679840088),\n",
              " ('naples', 0.5481479167938232),\n",
              " ('prohertrib', 0.5451392531394958),\n",
              " ('brussels', 0.5315011739730835),\n",
              " ('vienna', 0.522147536277771)]"
            ]
          },
          "metadata": {},
          "execution_count": 15
        }
      ]
    },
    {
      "cell_type": "code",
      "source": [
        "wv.most_similar(positive=['bigger', 'small'], negative=['big'])"
      ],
      "metadata": {
        "colab": {
          "base_uri": "https://localhost:8080/"
        },
        "id": "WxB2UKQPT1ml",
        "outputId": "3959edc6-05e0-4388-9512-ca9c92310e89"
      },
      "execution_count": 16,
      "outputs": [
        {
          "output_type": "execute_result",
          "data": {
            "text/plain": [
              "[('smaller', 0.8234847187995911),\n",
              " ('larger', 0.8212383389472961),\n",
              " ('large', 0.6658588647842407),\n",
              " ('tiny', 0.6530793905258179),\n",
              " ('size', 0.6375784277915955),\n",
              " ('sized', 0.6072860956192017),\n",
              " ('smallest', 0.5710717439651489),\n",
              " ('relatively', 0.5185189247131348),\n",
              " ('than', 0.5131736993789673),\n",
              " ('greater', 0.5110926032066345)]"
            ]
          },
          "metadata": {},
          "execution_count": 16
        }
      ]
    },
    {
      "cell_type": "code",
      "source": [
        "wv.most_similar(positive=['cu', 'zinc'], negative=['copper'])"
      ],
      "metadata": {
        "colab": {
          "base_uri": "https://localhost:8080/"
        },
        "id": "Ld-my_0CUOnl",
        "outputId": "20d194e7-1be8-4b85-84f0-6425a9288707"
      },
      "execution_count": 17,
      "outputs": [
        {
          "output_type": "execute_result",
          "data": {
            "text/plain": [
              "[('seeme', 0.5480884313583374),\n",
              " ('zn', 0.521807849407196),\n",
              " ('phe', 0.4421136975288391),\n",
              " ('μg', 0.42606794834136963),\n",
              " ('hs', 0.41812530159950256),\n",
              " ('omul', 0.41018256545066833),\n",
              " ('mg/l', 0.4097822606563568),\n",
              " ('ei', 0.39971697330474854),\n",
              " ('h2o', 0.3982445299625397),\n",
              " ('bcm', 0.3911949694156647)]"
            ]
          },
          "metadata": {},
          "execution_count": 17
        }
      ]
    },
    {
      "cell_type": "code",
      "source": [
        "wv.most_similar(positive=['king', 'woman'], negative=['man'])"
      ],
      "metadata": {
        "colab": {
          "base_uri": "https://localhost:8080/"
        },
        "id": "wvT-G_QV-DhL",
        "outputId": "3e843ba1-1d98-4367-b1ab-6e38bf7da09f"
      },
      "execution_count": 18,
      "outputs": [
        {
          "output_type": "execute_result",
          "data": {
            "text/plain": [
              "[('queen', 0.6978678703308105),\n",
              " ('princess', 0.6081745028495789),\n",
              " ('monarch', 0.5889754891395569),\n",
              " ('throne', 0.5775108933448792),\n",
              " ('prince', 0.5750998854637146),\n",
              " ('elizabeth', 0.546359658241272),\n",
              " ('daughter', 0.5399125814437866),\n",
              " ('kingdom', 0.5318052768707275),\n",
              " ('mother', 0.5168544054031372),\n",
              " ('crown', 0.5164472460746765)]"
            ]
          },
          "metadata": {},
          "execution_count": 18
        }
      ]
    },
    {
      "cell_type": "code",
      "source": [
        "wv.most_similar(positive=[\"hitler\", 'russia'], negative=['germany'])"
      ],
      "metadata": {
        "colab": {
          "base_uri": "https://localhost:8080/"
        },
        "id": "8V3bLCRc-PZ5",
        "outputId": "29440c3c-7633-4cf5-ef4a-bf931d3df7a2"
      },
      "execution_count": 19,
      "outputs": [
        {
          "output_type": "execute_result",
          "data": {
            "text/plain": [
              "[('stalin', 0.6491348743438721),\n",
              " ('putin', 0.5700370669364929),\n",
              " ('soviet', 0.5667716264724731),\n",
              " ('yeltsin', 0.5527988076210022),\n",
              " ('russian', 0.5486958026885986),\n",
              " ('kremlin', 0.5368818640708923),\n",
              " ('lebed', 0.5129358172416687),\n",
              " ('moscow', 0.5090124607086182),\n",
              " ('khrushchev', 0.508275032043457),\n",
              " ('lenin', 0.5056862831115723)]"
            ]
          },
          "metadata": {},
          "execution_count": 19
        }
      ]
    },
    {
      "cell_type": "code",
      "source": [
        "wv.most_similar(positive=[\"sushi\", 'spain'], negative=['japan'])"
      ],
      "metadata": {
        "colab": {
          "base_uri": "https://localhost:8080/"
        },
        "id": "k4c7TQ7DUg29",
        "outputId": "77fab859-da99-44a7-ee77-0c685236bb84"
      },
      "execution_count": 20,
      "outputs": [
        {
          "output_type": "execute_result",
          "data": {
            "text/plain": [
              "[('tapas', 0.5149334073066711),\n",
              " ('paella', 0.5005897283554077),\n",
              " ('flamenco', 0.4588620662689209),\n",
              " ('salsa', 0.45332974195480347),\n",
              " ('omelet', 0.4437166750431061),\n",
              " ('feliciano', 0.43677711486816406),\n",
              " ('chorizo', 0.42818450927734375),\n",
              " ('appetizers', 0.42781874537467957),\n",
              " ('verdasco', 0.42165130376815796),\n",
              " ('madrid', 0.4196069836616516)]"
            ]
          },
          "metadata": {},
          "execution_count": 20
        }
      ]
    },
    {
      "cell_type": "code",
      "source": [
        "wv.most_similar(positive=[\"einstein\", 'painter'], negative=['scientist'])"
      ],
      "metadata": {
        "colab": {
          "base_uri": "https://localhost:8080/"
        },
        "id": "yyrc9dspUwZE",
        "outputId": "b0a7c5a7-b7b8-4bc2-cb05-5f93b11816e3"
      },
      "execution_count": 21,
      "outputs": [
        {
          "output_type": "execute_result",
          "data": {
            "text/plain": [
              "[('picasso', 0.5602502822875977),\n",
              " ('expressionist', 0.5363213419914246),\n",
              " ('monet', 0.5350351333618164),\n",
              " ('painters', 0.5283687114715576),\n",
              " ('painting', 0.5260388851165771),\n",
              " ('matisse', 0.5256484746932983),\n",
              " ('surrealist', 0.5232280492782593),\n",
              " ('cubist', 0.5000053644180298),\n",
              " ('rembrandt', 0.49524158239364624),\n",
              " ('paintings', 0.4932195246219635)]"
            ]
          },
          "metadata": {},
          "execution_count": 21
        }
      ]
    },
    {
      "cell_type": "code",
      "source": [
        "wv.most_similar(positive=[\"congressman\", 'woman'], negative=['man'])"
      ],
      "metadata": {
        "colab": {
          "base_uri": "https://localhost:8080/"
        },
        "id": "J12_Hczi-Z9p",
        "outputId": "fa0e029a-97b7-423d-f651-9e15a8c23716"
      },
      "execution_count": 22,
      "outputs": [
        {
          "output_type": "execute_result",
          "data": {
            "text/plain": [
              "[('congresswoman', 0.7333186268806458),\n",
              " ('senator', 0.6340636014938354),\n",
              " ('rep.', 0.628604531288147),\n",
              " ('democrat', 0.6067011952400208),\n",
              " ('lawmaker', 0.5581487417221069),\n",
              " ('congressmen', 0.5471855401992798),\n",
              " ('republican', 0.5448379516601562),\n",
              " ('congressional', 0.5439686179161072),\n",
              " ('representative', 0.5205968618392944),\n",
              " ('sen.', 0.5118258595466614)]"
            ]
          },
          "metadata": {},
          "execution_count": 22
        }
      ]
    },
    {
      "cell_type": "markdown",
      "source": [
        "Biases in analogies"
      ],
      "metadata": {
        "id": "-UGvmvuvBcVN"
      }
    },
    {
      "cell_type": "code",
      "source": [
        "wv.most_similar(positive=['manager', 'woman'], negative=['man'])"
      ],
      "metadata": {
        "colab": {
          "base_uri": "https://localhost:8080/"
        },
        "id": "UckGtrNd_CFl",
        "outputId": "db2a438e-70d1-454d-b74e-00849afd3306"
      },
      "execution_count": 23,
      "outputs": [
        {
          "output_type": "execute_result",
          "data": {
            "text/plain": [
              "[('assistant', 0.5620709657669067),\n",
              " ('managers', 0.5032733082771301),\n",
              " ('director', 0.49716031551361084),\n",
              " ('employee', 0.494746595621109),\n",
              " ('management', 0.48427969217300415),\n",
              " ('managing', 0.48158785700798035),\n",
              " ('spokeswoman', 0.4637411832809448),\n",
              " ('owner', 0.4630720913410187),\n",
              " ('consultant', 0.4613330066204071),\n",
              " ('wife', 0.4598345160484314)]"
            ]
          },
          "metadata": {},
          "execution_count": 23
        }
      ]
    },
    {
      "cell_type": "code",
      "source": [
        "wv.most_similar(positive=['stewardess', 'man'], negative=['woman'])"
      ],
      "metadata": {
        "colab": {
          "base_uri": "https://localhost:8080/"
        },
        "id": "FCDjXtcu_VRg",
        "outputId": "b5f47131-a457-4eae-d8ef-d9b145064ac6"
      },
      "execution_count": 24,
      "outputs": [
        {
          "output_type": "execute_result",
          "data": {
            "text/plain": [
              "[('hijacker', 0.4259912967681885),\n",
              " ('tans', 0.40667155385017395),\n",
              " ('airline', 0.3986058831214905),\n",
              " ('stewardesses', 0.3963492512702942),\n",
              " ('pal', 0.3889896869659424),\n",
              " ('unshaven', 0.3831104040145874),\n",
              " ('attendant', 0.37830811738967896),\n",
              " ('fireman', 0.37551939487457275),\n",
              " ('hijacks', 0.37500399351119995),\n",
              " ('chubby', 0.37313079833984375)]"
            ]
          },
          "metadata": {},
          "execution_count": 24
        }
      ]
    },
    {
      "cell_type": "markdown",
      "source": [
        "TODO: find one more good analogy and bias in analogy"
      ],
      "metadata": {
        "id": "JDjWtKdgBeDM"
      }
    },
    {
      "cell_type": "markdown",
      "source": [
        "Good analogy:"
      ],
      "metadata": {
        "id": "JR7I2TDYPcF_"
      }
    },
    {
      "cell_type": "code",
      "source": [
        "wv.most_similar(positive=[\"hollywood\", 'india'], negative=['usa'])"
      ],
      "metadata": {
        "id": "PRRnHCfONgKi",
        "colab": {
          "base_uri": "https://localhost:8080/"
        },
        "outputId": "86892898-534a-45da-ac76-bd0c8d038443"
      },
      "execution_count": 55,
      "outputs": [
        {
          "output_type": "execute_result",
          "data": {
            "text/plain": [
              "[('bollywood', 0.5845800638198853),\n",
              " ('indian', 0.5523296594619751),\n",
              " ('movie', 0.5267189741134644),\n",
              " ('delhi', 0.487975150346756),\n",
              " ('film', 0.4846310019493103),\n",
              " ('hindu', 0.46057239174842834),\n",
              " ('films', 0.45953869819641113),\n",
              " ('kashmir', 0.45260557532310486),\n",
              " ('movies', 0.45009860396385193),\n",
              " ('decades', 0.448822945356369)]"
            ]
          },
          "metadata": {},
          "execution_count": 55
        }
      ]
    },
    {
      "cell_type": "markdown",
      "source": [
        "Bias in analogy:"
      ],
      "metadata": {
        "id": "Cj7_SAiRPfDu"
      }
    },
    {
      "cell_type": "code",
      "source": [
        "wv.most_similar(positive=[\"hairdresser\", 'man'], negative=['woman'])"
      ],
      "metadata": {
        "colab": {
          "base_uri": "https://localhost:8080/"
        },
        "id": "SrI2cUssPjiL",
        "outputId": "72f5b8f6-4c79-4d06-d412-7505f5c25438"
      },
      "execution_count": 49,
      "outputs": [
        {
          "output_type": "execute_result",
          "data": {
            "text/plain": [
              "[('bricklayer', 0.5133412480354309),\n",
              " ('bartender', 0.49326297640800476),\n",
              " ('mechanic', 0.4863339066505432),\n",
              " ('salesman', 0.47580069303512573),\n",
              " ('plumber', 0.47571295499801636),\n",
              " ('electrician', 0.4683968722820282),\n",
              " ('apprentice', 0.4682706594467163),\n",
              " ('blacksmith', 0.4639042317867279),\n",
              " ('newsagent', 0.4476345181465149),\n",
              " ('welder', 0.44019538164138794)]"
            ]
          },
          "metadata": {},
          "execution_count": 49
        }
      ]
    },
    {
      "cell_type": "markdown",
      "source": [
        "# Synonyms and antonims"
      ],
      "metadata": {
        "id": "slCjzVztAy4Q"
      }
    },
    {
      "cell_type": "markdown",
      "source": [
        "Good ones"
      ],
      "metadata": {
        "id": "PrqDXGiJBNWg"
      }
    },
    {
      "cell_type": "code",
      "source": [
        "print(wv.distance(\"fire\", \"water\"))\n",
        "print(wv.distance(\"liquid\", \"water\"))"
      ],
      "metadata": {
        "colab": {
          "base_uri": "https://localhost:8080/"
        },
        "id": "8Em0HNC9AQqE",
        "outputId": "8ca856ba-629b-44f5-95bf-b3c8cf51ae1b"
      },
      "execution_count": 56,
      "outputs": [
        {
          "output_type": "stream",
          "name": "stdout",
          "text": [
            "0.5467787683010101\n",
            "0.4450404644012451\n"
          ]
        }
      ]
    },
    {
      "cell_type": "code",
      "source": [
        "print(wv.distance(\"smile\", \"laugh\"))\n",
        "print(wv.distance(\"smile\", \"cry\"))"
      ],
      "metadata": {
        "colab": {
          "base_uri": "https://localhost:8080/"
        },
        "id": "fMWxy91SAs7y",
        "outputId": "84a3d088-e5fa-466a-d87e-5dff02e49386"
      },
      "execution_count": 57,
      "outputs": [
        {
          "output_type": "stream",
          "name": "stdout",
          "text": [
            "0.33661413192749023\n",
            "0.6078213751316071\n"
          ]
        }
      ]
    },
    {
      "cell_type": "markdown",
      "source": [
        "Wrong ones"
      ],
      "metadata": {
        "id": "witcCRxBBPVR"
      }
    },
    {
      "cell_type": "code",
      "source": [
        "print(wv.distance(\"black\", \"dark\"))\n",
        "print(wv.distance(\"black\", \"white\"))"
      ],
      "metadata": {
        "colab": {
          "base_uri": "https://localhost:8080/"
        },
        "id": "yMVWLh6FA_Dx",
        "outputId": "95fa65c0-5933-47dc-9f73-1c7190e6c705"
      },
      "execution_count": 58,
      "outputs": [
        {
          "output_type": "stream",
          "name": "stdout",
          "text": [
            "0.3460924029350281\n",
            "0.20702677965164185\n"
          ]
        }
      ]
    },
    {
      "cell_type": "markdown",
      "source": [
        "TODO: Find one more good and one more bad "
      ],
      "metadata": {
        "id": "N7FlNPVtDNDB"
      }
    },
    {
      "cell_type": "markdown",
      "source": [
        "Good:"
      ],
      "metadata": {
        "id": "S3DVm7sESI3G"
      }
    },
    {
      "cell_type": "code",
      "source": [
        "print(wv.distance(\"usa\", \"washington\"))\n",
        "print(wv.distance(\"usa\", \"pekin\"))"
      ],
      "metadata": {
        "id": "OlPd5ykRDOd3",
        "colab": {
          "base_uri": "https://localhost:8080/"
        },
        "outputId": "c08a5fff-a8bb-4a87-dda1-bdf486dca7eb"
      },
      "execution_count": 75,
      "outputs": [
        {
          "output_type": "stream",
          "name": "stdout",
          "text": [
            "0.6448318958282471\n",
            "1.0974096432328224\n"
          ]
        }
      ]
    },
    {
      "cell_type": "markdown",
      "source": [
        "Bad:"
      ],
      "metadata": {
        "id": "1w4FxMZISK13"
      }
    },
    {
      "cell_type": "code",
      "source": [
        "print(wv.distance(\"small\", \"big\"))\n",
        "print(wv.distance(\"small\", \"low\"))"
      ],
      "metadata": {
        "colab": {
          "base_uri": "https://localhost:8080/"
        },
        "id": "px-msesBSMYi",
        "outputId": "2e090cea-5c3e-4cdf-fc62-2850154917a7"
      },
      "execution_count": 95,
      "outputs": [
        {
          "output_type": "stream",
          "name": "stdout",
          "text": [
            "0.3511464595794678\n",
            "0.5087694227695465\n"
          ]
        }
      ]
    }
  ]
}